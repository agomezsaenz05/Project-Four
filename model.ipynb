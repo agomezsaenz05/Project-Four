{
 "cells": [
  {
   "attachments": {},
   "cell_type": "markdown",
   "metadata": {},
   "source": [
    "Predicting Credit Score with a Random Forest Model"
   ]
  },
  {
   "cell_type": "code",
   "execution_count": 5,
   "metadata": {},
   "outputs": [],
   "source": [
    "#import dependencies\n",
    "\n",
    "import pandas as pd\n",
    "from pathlib import Path\n",
    "from sklearn.ensemble import RandomForestClassifier\n",
    "from sklearn.preprocessing import StandardScaler\n",
    "from sklearn.model_selection import train_test_split\n",
    "from sklearn.metrics import confusion_matrix, accuracy_score, classification_report\n",
    "%matplotlib inline\n",
    "import re\n",
    "from sklearn.metrics import r2_score\n",
    "import seaborn as sns\n",
    "from sklearn.ensemble import RandomForestRegressor\n",
    "from sklearn.datasets import make_classification\n",
    "from imblearn.over_sampling import RandomOverSampler\n",
    "from imblearn.pipeline import Pipeline\n",
    "from imblearn.over_sampling import RandomOverSampler\n",
    "from sklearn.ensemble import RandomForestRegressor\n",
    "from sklearn.model_selection import cross_val_score, RepeatedStratifiedKFold\n",
    "from numpy import mean\n",
    "from statistics import mean\n",
    "from matplotlib import pyplot as plt\n",
    "from imblearn.over_sampling import SMOTE\n",
    "from sklearn.model_selection import cross_validate\n",
    "from sklearn.metrics import mean_squared_error, mean_absolute_error\n",
    "\n"
   ]
  },
  {
   "attachments": {},
   "cell_type": "markdown",
   "metadata": {},
   "source": [
    "DATA CLEANING"
   ]
  },
  {
   "cell_type": "code",
   "execution_count": 6,
   "metadata": {},
   "outputs": [
    {
     "data": {
      "text/plain": [
       "Loan ID                          353\n",
       "Customer ID                      353\n",
       "Current Loan Amount              353\n",
       "Term                             353\n",
       "Credit Score                    2334\n",
       "Annual Income                   2334\n",
       "Years in current job             780\n",
       "Home Ownership                   353\n",
       "Purpose                          353\n",
       "Monthly Debt                     353\n",
       "Years of Credit History          353\n",
       "Months since last delinquent    5659\n",
       "Number of Open Accounts          353\n",
       "Number of Credit Problems        353\n",
       "Current Credit Balance           353\n",
       "Maximum Open Credit              353\n",
       "Bankruptcies                     375\n",
       "Tax Liens                        354\n",
       "dtype: int64"
      ]
     },
     "execution_count": 6,
     "metadata": {},
     "output_type": "execute_result"
    }
   ],
   "source": [
    "#import data to clean and check null values for test data\n",
    "credit_test = pd.read_csv(\"Data/credit_test.csv\")\n",
    "credit_test.isnull().sum()"
   ]
  },
  {
   "cell_type": "code",
   "execution_count": 7,
   "metadata": {},
   "outputs": [
    {
     "data": {
      "text/plain": [
       "Loan ID                           514\n",
       "Customer ID                       514\n",
       "Loan Status                       514\n",
       "Current Loan Amount               514\n",
       "Term                              514\n",
       "Credit Score                    19668\n",
       "Annual Income                   19668\n",
       "Years in current job             4736\n",
       "Home Ownership                    514\n",
       "Purpose                           514\n",
       "Monthly Debt                      514\n",
       "Years of Credit History           514\n",
       "Months since last delinquent    53655\n",
       "Number of Open Accounts           514\n",
       "Number of Credit Problems         514\n",
       "Current Credit Balance            514\n",
       "Maximum Open Credit               516\n",
       "Bankruptcies                      718\n",
       "Tax Liens                         524\n",
       "dtype: int64"
      ]
     },
     "execution_count": 7,
     "metadata": {},
     "output_type": "execute_result"
    }
   ],
   "source": [
    "#import data to clean and check null values for train data\n",
    "credit_train = pd.read_csv(\"Data/credit_train.csv\")\n",
    "credit_train.isnull().sum()"
   ]
  },
  {
   "cell_type": "code",
   "execution_count": 8,
   "metadata": {},
   "outputs": [],
   "source": [
    "#drop null values for both data frames\n",
    "\n",
    "#drop null values\n",
    "credit_test.dropna(how = 'any', inplace=True)\n",
    "#drop null values\n",
    "credit_train.dropna(how = 'any', inplace=True)"
   ]
  },
  {
   "cell_type": "code",
   "execution_count": 9,
   "metadata": {},
   "outputs": [
    {
     "data": {
      "text/plain": [
       "Loan ID                         0\n",
       "Customer ID                     0\n",
       "Current Loan Amount             0\n",
       "Term                            0\n",
       "Credit Score                    0\n",
       "Annual Income                   0\n",
       "Years in current job            0\n",
       "Home Ownership                  0\n",
       "Purpose                         0\n",
       "Monthly Debt                    0\n",
       "Years of Credit History         0\n",
       "Months since last delinquent    0\n",
       "Number of Open Accounts         0\n",
       "Number of Credit Problems       0\n",
       "Current Credit Balance          0\n",
       "Maximum Open Credit             0\n",
       "Bankruptcies                    0\n",
       "Tax Liens                       0\n",
       "dtype: int64"
      ]
     },
     "execution_count": 9,
     "metadata": {},
     "output_type": "execute_result"
    }
   ],
   "source": [
    "#check null values\n",
    "credit_test.isnull().sum()"
   ]
  },
  {
   "cell_type": "code",
   "execution_count": 10,
   "metadata": {},
   "outputs": [
    {
     "data": {
      "text/plain": [
       "Loan ID                         0\n",
       "Customer ID                     0\n",
       "Loan Status                     0\n",
       "Current Loan Amount             0\n",
       "Term                            0\n",
       "Credit Score                    0\n",
       "Annual Income                   0\n",
       "Years in current job            0\n",
       "Home Ownership                  0\n",
       "Purpose                         0\n",
       "Monthly Debt                    0\n",
       "Years of Credit History         0\n",
       "Months since last delinquent    0\n",
       "Number of Open Accounts         0\n",
       "Number of Credit Problems       0\n",
       "Current Credit Balance          0\n",
       "Maximum Open Credit             0\n",
       "Bankruptcies                    0\n",
       "Tax Liens                       0\n",
       "dtype: int64"
      ]
     },
     "execution_count": 10,
     "metadata": {},
     "output_type": "execute_result"
    }
   ],
   "source": [
    "#check null values\n",
    "credit_train.isnull().sum()"
   ]
  },
  {
   "cell_type": "code",
   "execution_count": 11,
   "metadata": {},
   "outputs": [
    {
     "data": {
      "text/html": [
       "<div>\n",
       "<style scoped>\n",
       "    .dataframe tbody tr th:only-of-type {\n",
       "        vertical-align: middle;\n",
       "    }\n",
       "\n",
       "    .dataframe tbody tr th {\n",
       "        vertical-align: top;\n",
       "    }\n",
       "\n",
       "    .dataframe thead th {\n",
       "        text-align: right;\n",
       "    }\n",
       "</style>\n",
       "<table border=\"1\" class=\"dataframe\">\n",
       "  <thead>\n",
       "    <tr style=\"text-align: right;\">\n",
       "      <th></th>\n",
       "      <th>Current Loan Amount</th>\n",
       "      <th>Term</th>\n",
       "      <th>Credit Score</th>\n",
       "      <th>Annual Income</th>\n",
       "      <th>Years in current job</th>\n",
       "      <th>Monthly Debt</th>\n",
       "      <th>Years of Credit History</th>\n",
       "      <th>Months since last delinquent</th>\n",
       "      <th>Number of Open Accounts</th>\n",
       "      <th>Number of Credit Problems</th>\n",
       "      <th>Current Credit Balance</th>\n",
       "      <th>Maximum Open Credit</th>\n",
       "      <th>Bankruptcies</th>\n",
       "      <th>Tax Liens</th>\n",
       "    </tr>\n",
       "  </thead>\n",
       "  <tbody>\n",
       "    <tr>\n",
       "      <th>2</th>\n",
       "      <td>153494.0</td>\n",
       "      <td>Short Term</td>\n",
       "      <td>709.0</td>\n",
       "      <td>871112.0</td>\n",
       "      <td>2 years</td>\n",
       "      <td>8391.73</td>\n",
       "      <td>12.5</td>\n",
       "      <td>10.0</td>\n",
       "      <td>10.0</td>\n",
       "      <td>0.0</td>\n",
       "      <td>38532.0</td>\n",
       "      <td>388036.0</td>\n",
       "      <td>0.0</td>\n",
       "      <td>0.0</td>\n",
       "    </tr>\n",
       "    <tr>\n",
       "      <th>3</th>\n",
       "      <td>176242.0</td>\n",
       "      <td>Short Term</td>\n",
       "      <td>727.0</td>\n",
       "      <td>780083.0</td>\n",
       "      <td>10+ years</td>\n",
       "      <td>16771.87</td>\n",
       "      <td>16.5</td>\n",
       "      <td>27.0</td>\n",
       "      <td>16.0</td>\n",
       "      <td>1.0</td>\n",
       "      <td>156940.0</td>\n",
       "      <td>531322.0</td>\n",
       "      <td>1.0</td>\n",
       "      <td>0.0</td>\n",
       "    </tr>\n",
       "    <tr>\n",
       "      <th>4</th>\n",
       "      <td>321992.0</td>\n",
       "      <td>Short Term</td>\n",
       "      <td>744.0</td>\n",
       "      <td>1761148.0</td>\n",
       "      <td>10+ years</td>\n",
       "      <td>39478.77</td>\n",
       "      <td>26.0</td>\n",
       "      <td>44.0</td>\n",
       "      <td>14.0</td>\n",
       "      <td>0.0</td>\n",
       "      <td>359765.0</td>\n",
       "      <td>468072.0</td>\n",
       "      <td>0.0</td>\n",
       "      <td>0.0</td>\n",
       "    </tr>\n",
       "    <tr>\n",
       "      <th>9</th>\n",
       "      <td>266288.0</td>\n",
       "      <td>Long Term</td>\n",
       "      <td>683.0</td>\n",
       "      <td>2031518.0</td>\n",
       "      <td>2 years</td>\n",
       "      <td>12443.10</td>\n",
       "      <td>24.4</td>\n",
       "      <td>56.0</td>\n",
       "      <td>8.0</td>\n",
       "      <td>2.0</td>\n",
       "      <td>31445.0</td>\n",
       "      <td>251130.0</td>\n",
       "      <td>2.0</td>\n",
       "      <td>0.0</td>\n",
       "    </tr>\n",
       "    <tr>\n",
       "      <th>11</th>\n",
       "      <td>258104.0</td>\n",
       "      <td>Short Term</td>\n",
       "      <td>723.0</td>\n",
       "      <td>1284514.0</td>\n",
       "      <td>7 years</td>\n",
       "      <td>6368.99</td>\n",
       "      <td>14.6</td>\n",
       "      <td>64.0</td>\n",
       "      <td>12.0</td>\n",
       "      <td>0.0</td>\n",
       "      <td>128402.0</td>\n",
       "      <td>266904.0</td>\n",
       "      <td>0.0</td>\n",
       "      <td>0.0</td>\n",
       "    </tr>\n",
       "    <tr>\n",
       "      <th>...</th>\n",
       "      <td>...</td>\n",
       "      <td>...</td>\n",
       "      <td>...</td>\n",
       "      <td>...</td>\n",
       "      <td>...</td>\n",
       "      <td>...</td>\n",
       "      <td>...</td>\n",
       "      <td>...</td>\n",
       "      <td>...</td>\n",
       "      <td>...</td>\n",
       "      <td>...</td>\n",
       "      <td>...</td>\n",
       "      <td>...</td>\n",
       "      <td>...</td>\n",
       "    </tr>\n",
       "    <tr>\n",
       "      <th>9989</th>\n",
       "      <td>110946.0</td>\n",
       "      <td>Short Term</td>\n",
       "      <td>736.0</td>\n",
       "      <td>632396.0</td>\n",
       "      <td>2 years</td>\n",
       "      <td>13122.16</td>\n",
       "      <td>14.1</td>\n",
       "      <td>48.0</td>\n",
       "      <td>17.0</td>\n",
       "      <td>0.0</td>\n",
       "      <td>214966.0</td>\n",
       "      <td>324126.0</td>\n",
       "      <td>0.0</td>\n",
       "      <td>0.0</td>\n",
       "    </tr>\n",
       "    <tr>\n",
       "      <th>9990</th>\n",
       "      <td>260128.0</td>\n",
       "      <td>Long Term</td>\n",
       "      <td>611.0</td>\n",
       "      <td>3182519.0</td>\n",
       "      <td>4 years</td>\n",
       "      <td>79563.07</td>\n",
       "      <td>20.7</td>\n",
       "      <td>40.0</td>\n",
       "      <td>47.0</td>\n",
       "      <td>0.0</td>\n",
       "      <td>1398932.0</td>\n",
       "      <td>3673032.0</td>\n",
       "      <td>0.0</td>\n",
       "      <td>0.0</td>\n",
       "    </tr>\n",
       "    <tr>\n",
       "      <th>9994</th>\n",
       "      <td>442596.0</td>\n",
       "      <td>Short Term</td>\n",
       "      <td>739.0</td>\n",
       "      <td>1528968.0</td>\n",
       "      <td>7 years</td>\n",
       "      <td>19494.38</td>\n",
       "      <td>16.7</td>\n",
       "      <td>79.0</td>\n",
       "      <td>11.0</td>\n",
       "      <td>0.0</td>\n",
       "      <td>419235.0</td>\n",
       "      <td>656876.0</td>\n",
       "      <td>0.0</td>\n",
       "      <td>0.0</td>\n",
       "    </tr>\n",
       "    <tr>\n",
       "      <th>9996</th>\n",
       "      <td>132550.0</td>\n",
       "      <td>Short Term</td>\n",
       "      <td>718.0</td>\n",
       "      <td>763192.0</td>\n",
       "      <td>4 years</td>\n",
       "      <td>12401.87</td>\n",
       "      <td>9.9</td>\n",
       "      <td>20.0</td>\n",
       "      <td>8.0</td>\n",
       "      <td>0.0</td>\n",
       "      <td>74309.0</td>\n",
       "      <td>329692.0</td>\n",
       "      <td>0.0</td>\n",
       "      <td>0.0</td>\n",
       "    </tr>\n",
       "    <tr>\n",
       "      <th>9998</th>\n",
       "      <td>99999999.0</td>\n",
       "      <td>Short Term</td>\n",
       "      <td>721.0</td>\n",
       "      <td>972097.0</td>\n",
       "      <td>10+ years</td>\n",
       "      <td>12232.20</td>\n",
       "      <td>16.8</td>\n",
       "      <td>24.0</td>\n",
       "      <td>8.0</td>\n",
       "      <td>1.0</td>\n",
       "      <td>184984.0</td>\n",
       "      <td>240658.0</td>\n",
       "      <td>0.0</td>\n",
       "      <td>0.0</td>\n",
       "    </tr>\n",
       "  </tbody>\n",
       "</table>\n",
       "<p>3381 rows × 14 columns</p>\n",
       "</div>"
      ],
      "text/plain": [
       "      Current Loan Amount        Term  Credit Score  Annual Income   \n",
       "2                153494.0  Short Term         709.0       871112.0  \\\n",
       "3                176242.0  Short Term         727.0       780083.0   \n",
       "4                321992.0  Short Term         744.0      1761148.0   \n",
       "9                266288.0   Long Term         683.0      2031518.0   \n",
       "11               258104.0  Short Term         723.0      1284514.0   \n",
       "...                   ...         ...           ...            ...   \n",
       "9989             110946.0  Short Term         736.0       632396.0   \n",
       "9990             260128.0   Long Term         611.0      3182519.0   \n",
       "9994             442596.0  Short Term         739.0      1528968.0   \n",
       "9996             132550.0  Short Term         718.0       763192.0   \n",
       "9998           99999999.0  Short Term         721.0       972097.0   \n",
       "\n",
       "     Years in current job  Monthly Debt  Years of Credit History   \n",
       "2                 2 years       8391.73                     12.5  \\\n",
       "3               10+ years      16771.87                     16.5   \n",
       "4               10+ years      39478.77                     26.0   \n",
       "9                 2 years      12443.10                     24.4   \n",
       "11                7 years       6368.99                     14.6   \n",
       "...                   ...           ...                      ...   \n",
       "9989              2 years      13122.16                     14.1   \n",
       "9990              4 years      79563.07                     20.7   \n",
       "9994              7 years      19494.38                     16.7   \n",
       "9996              4 years      12401.87                      9.9   \n",
       "9998            10+ years      12232.20                     16.8   \n",
       "\n",
       "      Months since last delinquent  Number of Open Accounts   \n",
       "2                             10.0                     10.0  \\\n",
       "3                             27.0                     16.0   \n",
       "4                             44.0                     14.0   \n",
       "9                             56.0                      8.0   \n",
       "11                            64.0                     12.0   \n",
       "...                            ...                      ...   \n",
       "9989                          48.0                     17.0   \n",
       "9990                          40.0                     47.0   \n",
       "9994                          79.0                     11.0   \n",
       "9996                          20.0                      8.0   \n",
       "9998                          24.0                      8.0   \n",
       "\n",
       "      Number of Credit Problems  Current Credit Balance  Maximum Open Credit   \n",
       "2                           0.0                 38532.0             388036.0  \\\n",
       "3                           1.0                156940.0             531322.0   \n",
       "4                           0.0                359765.0             468072.0   \n",
       "9                           2.0                 31445.0             251130.0   \n",
       "11                          0.0                128402.0             266904.0   \n",
       "...                         ...                     ...                  ...   \n",
       "9989                        0.0                214966.0             324126.0   \n",
       "9990                        0.0               1398932.0            3673032.0   \n",
       "9994                        0.0                419235.0             656876.0   \n",
       "9996                        0.0                 74309.0             329692.0   \n",
       "9998                        1.0                184984.0             240658.0   \n",
       "\n",
       "      Bankruptcies  Tax Liens  \n",
       "2              0.0        0.0  \n",
       "3              1.0        0.0  \n",
       "4              0.0        0.0  \n",
       "9              2.0        0.0  \n",
       "11             0.0        0.0  \n",
       "...            ...        ...  \n",
       "9989           0.0        0.0  \n",
       "9990           0.0        0.0  \n",
       "9994           0.0        0.0  \n",
       "9996           0.0        0.0  \n",
       "9998           0.0        0.0  \n",
       "\n",
       "[3381 rows x 14 columns]"
      ]
     },
     "execution_count": 11,
     "metadata": {},
     "output_type": "execute_result"
    }
   ],
   "source": [
    "#drop in correct credit scores for TEST\n",
    "filtered_data_test = credit_test[credit_test['Credit Score'] <= 850].drop(['Purpose', 'Home Ownership','Loan ID', 'Customer ID'], axis=1)\n",
    "# Print the filtered dataset\n",
    "filtered_data_test"
   ]
  },
  {
   "cell_type": "code",
   "execution_count": 12,
   "metadata": {},
   "outputs": [
    {
     "data": {
      "text/html": [
       "<div>\n",
       "<style scoped>\n",
       "    .dataframe tbody tr th:only-of-type {\n",
       "        vertical-align: middle;\n",
       "    }\n",
       "\n",
       "    .dataframe tbody tr th {\n",
       "        vertical-align: top;\n",
       "    }\n",
       "\n",
       "    .dataframe thead th {\n",
       "        text-align: right;\n",
       "    }\n",
       "</style>\n",
       "<table border=\"1\" class=\"dataframe\">\n",
       "  <thead>\n",
       "    <tr style=\"text-align: right;\">\n",
       "      <th></th>\n",
       "      <th>Loan Status</th>\n",
       "      <th>Current Loan Amount</th>\n",
       "      <th>Term</th>\n",
       "      <th>Credit Score</th>\n",
       "      <th>Annual Income</th>\n",
       "      <th>Years in current job</th>\n",
       "      <th>Monthly Debt</th>\n",
       "      <th>Years of Credit History</th>\n",
       "      <th>Months since last delinquent</th>\n",
       "      <th>Number of Open Accounts</th>\n",
       "      <th>Number of Credit Problems</th>\n",
       "      <th>Current Credit Balance</th>\n",
       "      <th>Maximum Open Credit</th>\n",
       "      <th>Bankruptcies</th>\n",
       "      <th>Tax Liens</th>\n",
       "    </tr>\n",
       "  </thead>\n",
       "  <tbody>\n",
       "    <tr>\n",
       "      <th>2</th>\n",
       "      <td>Fully Paid</td>\n",
       "      <td>99999999.0</td>\n",
       "      <td>Short Term</td>\n",
       "      <td>741.0</td>\n",
       "      <td>2231892.0</td>\n",
       "      <td>8 years</td>\n",
       "      <td>29200.53</td>\n",
       "      <td>14.9</td>\n",
       "      <td>29.0</td>\n",
       "      <td>18.0</td>\n",
       "      <td>1.0</td>\n",
       "      <td>297996.0</td>\n",
       "      <td>750090.0</td>\n",
       "      <td>0.0</td>\n",
       "      <td>0.0</td>\n",
       "    </tr>\n",
       "    <tr>\n",
       "      <th>6</th>\n",
       "      <td>Fully Paid</td>\n",
       "      <td>217646.0</td>\n",
       "      <td>Short Term</td>\n",
       "      <td>730.0</td>\n",
       "      <td>1184194.0</td>\n",
       "      <td>&lt; 1 year</td>\n",
       "      <td>10855.08</td>\n",
       "      <td>19.6</td>\n",
       "      <td>10.0</td>\n",
       "      <td>13.0</td>\n",
       "      <td>1.0</td>\n",
       "      <td>122170.0</td>\n",
       "      <td>272052.0</td>\n",
       "      <td>1.0</td>\n",
       "      <td>0.0</td>\n",
       "    </tr>\n",
       "    <tr>\n",
       "      <th>8</th>\n",
       "      <td>Fully Paid</td>\n",
       "      <td>548746.0</td>\n",
       "      <td>Short Term</td>\n",
       "      <td>678.0</td>\n",
       "      <td>2559110.0</td>\n",
       "      <td>2 years</td>\n",
       "      <td>18660.28</td>\n",
       "      <td>22.6</td>\n",
       "      <td>33.0</td>\n",
       "      <td>4.0</td>\n",
       "      <td>0.0</td>\n",
       "      <td>437171.0</td>\n",
       "      <td>555038.0</td>\n",
       "      <td>0.0</td>\n",
       "      <td>0.0</td>\n",
       "    </tr>\n",
       "    <tr>\n",
       "      <th>10</th>\n",
       "      <td>Fully Paid</td>\n",
       "      <td>99999999.0</td>\n",
       "      <td>Short Term</td>\n",
       "      <td>728.0</td>\n",
       "      <td>714628.0</td>\n",
       "      <td>3 years</td>\n",
       "      <td>11851.06</td>\n",
       "      <td>16.0</td>\n",
       "      <td>76.0</td>\n",
       "      <td>16.0</td>\n",
       "      <td>0.0</td>\n",
       "      <td>203965.0</td>\n",
       "      <td>289784.0</td>\n",
       "      <td>0.0</td>\n",
       "      <td>0.0</td>\n",
       "    </tr>\n",
       "    <tr>\n",
       "      <th>12</th>\n",
       "      <td>Fully Paid</td>\n",
       "      <td>99999999.0</td>\n",
       "      <td>Short Term</td>\n",
       "      <td>740.0</td>\n",
       "      <td>776188.0</td>\n",
       "      <td>&lt; 1 year</td>\n",
       "      <td>11578.22</td>\n",
       "      <td>8.5</td>\n",
       "      <td>25.0</td>\n",
       "      <td>6.0</td>\n",
       "      <td>0.0</td>\n",
       "      <td>134083.0</td>\n",
       "      <td>220220.0</td>\n",
       "      <td>0.0</td>\n",
       "      <td>0.0</td>\n",
       "    </tr>\n",
       "    <tr>\n",
       "      <th>...</th>\n",
       "      <td>...</td>\n",
       "      <td>...</td>\n",
       "      <td>...</td>\n",
       "      <td>...</td>\n",
       "      <td>...</td>\n",
       "      <td>...</td>\n",
       "      <td>...</td>\n",
       "      <td>...</td>\n",
       "      <td>...</td>\n",
       "      <td>...</td>\n",
       "      <td>...</td>\n",
       "      <td>...</td>\n",
       "      <td>...</td>\n",
       "      <td>...</td>\n",
       "      <td>...</td>\n",
       "    </tr>\n",
       "    <tr>\n",
       "      <th>99990</th>\n",
       "      <td>Fully Paid</td>\n",
       "      <td>99999999.0</td>\n",
       "      <td>Short Term</td>\n",
       "      <td>742.0</td>\n",
       "      <td>1190046.0</td>\n",
       "      <td>&lt; 1 year</td>\n",
       "      <td>11969.81</td>\n",
       "      <td>20.1</td>\n",
       "      <td>16.0</td>\n",
       "      <td>9.0</td>\n",
       "      <td>0.0</td>\n",
       "      <td>37392.0</td>\n",
       "      <td>134442.0</td>\n",
       "      <td>0.0</td>\n",
       "      <td>0.0</td>\n",
       "    </tr>\n",
       "    <tr>\n",
       "      <th>99993</th>\n",
       "      <td>Fully Paid</td>\n",
       "      <td>44484.0</td>\n",
       "      <td>Short Term</td>\n",
       "      <td>717.0</td>\n",
       "      <td>1152426.0</td>\n",
       "      <td>10+ years</td>\n",
       "      <td>6280.64</td>\n",
       "      <td>21.0</td>\n",
       "      <td>12.0</td>\n",
       "      <td>6.0</td>\n",
       "      <td>0.0</td>\n",
       "      <td>961932.0</td>\n",
       "      <td>0.0</td>\n",
       "      <td>0.0</td>\n",
       "      <td>0.0</td>\n",
       "    </tr>\n",
       "    <tr>\n",
       "      <th>99994</th>\n",
       "      <td>Fully Paid</td>\n",
       "      <td>210584.0</td>\n",
       "      <td>Short Term</td>\n",
       "      <td>719.0</td>\n",
       "      <td>783389.0</td>\n",
       "      <td>1 year</td>\n",
       "      <td>3727.61</td>\n",
       "      <td>17.4</td>\n",
       "      <td>18.0</td>\n",
       "      <td>6.0</td>\n",
       "      <td>0.0</td>\n",
       "      <td>456.0</td>\n",
       "      <td>259160.0</td>\n",
       "      <td>0.0</td>\n",
       "      <td>0.0</td>\n",
       "    </tr>\n",
       "    <tr>\n",
       "      <th>99996</th>\n",
       "      <td>Fully Paid</td>\n",
       "      <td>99999999.0</td>\n",
       "      <td>Short Term</td>\n",
       "      <td>732.0</td>\n",
       "      <td>1289416.0</td>\n",
       "      <td>1 year</td>\n",
       "      <td>13109.05</td>\n",
       "      <td>9.4</td>\n",
       "      <td>21.0</td>\n",
       "      <td>22.0</td>\n",
       "      <td>0.0</td>\n",
       "      <td>153045.0</td>\n",
       "      <td>509234.0</td>\n",
       "      <td>0.0</td>\n",
       "      <td>0.0</td>\n",
       "    </tr>\n",
       "    <tr>\n",
       "      <th>99997</th>\n",
       "      <td>Fully Paid</td>\n",
       "      <td>103136.0</td>\n",
       "      <td>Short Term</td>\n",
       "      <td>742.0</td>\n",
       "      <td>1150545.0</td>\n",
       "      <td>6 years</td>\n",
       "      <td>7315.57</td>\n",
       "      <td>18.8</td>\n",
       "      <td>18.0</td>\n",
       "      <td>12.0</td>\n",
       "      <td>1.0</td>\n",
       "      <td>109554.0</td>\n",
       "      <td>537548.0</td>\n",
       "      <td>1.0</td>\n",
       "      <td>0.0</td>\n",
       "    </tr>\n",
       "  </tbody>\n",
       "</table>\n",
       "<p>34468 rows × 15 columns</p>\n",
       "</div>"
      ],
      "text/plain": [
       "      Loan Status  Current Loan Amount        Term  Credit Score   \n",
       "2      Fully Paid           99999999.0  Short Term         741.0  \\\n",
       "6      Fully Paid             217646.0  Short Term         730.0   \n",
       "8      Fully Paid             548746.0  Short Term         678.0   \n",
       "10     Fully Paid           99999999.0  Short Term         728.0   \n",
       "12     Fully Paid           99999999.0  Short Term         740.0   \n",
       "...           ...                  ...         ...           ...   \n",
       "99990  Fully Paid           99999999.0  Short Term         742.0   \n",
       "99993  Fully Paid              44484.0  Short Term         717.0   \n",
       "99994  Fully Paid             210584.0  Short Term         719.0   \n",
       "99996  Fully Paid           99999999.0  Short Term         732.0   \n",
       "99997  Fully Paid             103136.0  Short Term         742.0   \n",
       "\n",
       "       Annual Income Years in current job  Monthly Debt   \n",
       "2          2231892.0              8 years      29200.53  \\\n",
       "6          1184194.0             < 1 year      10855.08   \n",
       "8          2559110.0              2 years      18660.28   \n",
       "10          714628.0              3 years      11851.06   \n",
       "12          776188.0             < 1 year      11578.22   \n",
       "...              ...                  ...           ...   \n",
       "99990      1190046.0             < 1 year      11969.81   \n",
       "99993      1152426.0            10+ years       6280.64   \n",
       "99994       783389.0               1 year       3727.61   \n",
       "99996      1289416.0               1 year      13109.05   \n",
       "99997      1150545.0              6 years       7315.57   \n",
       "\n",
       "       Years of Credit History  Months since last delinquent   \n",
       "2                         14.9                          29.0  \\\n",
       "6                         19.6                          10.0   \n",
       "8                         22.6                          33.0   \n",
       "10                        16.0                          76.0   \n",
       "12                         8.5                          25.0   \n",
       "...                        ...                           ...   \n",
       "99990                     20.1                          16.0   \n",
       "99993                     21.0                          12.0   \n",
       "99994                     17.4                          18.0   \n",
       "99996                      9.4                          21.0   \n",
       "99997                     18.8                          18.0   \n",
       "\n",
       "       Number of Open Accounts  Number of Credit Problems   \n",
       "2                         18.0                        1.0  \\\n",
       "6                         13.0                        1.0   \n",
       "8                          4.0                        0.0   \n",
       "10                        16.0                        0.0   \n",
       "12                         6.0                        0.0   \n",
       "...                        ...                        ...   \n",
       "99990                      9.0                        0.0   \n",
       "99993                      6.0                        0.0   \n",
       "99994                      6.0                        0.0   \n",
       "99996                     22.0                        0.0   \n",
       "99997                     12.0                        1.0   \n",
       "\n",
       "       Current Credit Balance  Maximum Open Credit  Bankruptcies  Tax Liens  \n",
       "2                    297996.0             750090.0           0.0        0.0  \n",
       "6                    122170.0             272052.0           1.0        0.0  \n",
       "8                    437171.0             555038.0           0.0        0.0  \n",
       "10                   203965.0             289784.0           0.0        0.0  \n",
       "12                   134083.0             220220.0           0.0        0.0  \n",
       "...                       ...                  ...           ...        ...  \n",
       "99990                 37392.0             134442.0           0.0        0.0  \n",
       "99993                961932.0                  0.0           0.0        0.0  \n",
       "99994                   456.0             259160.0           0.0        0.0  \n",
       "99996                153045.0             509234.0           0.0        0.0  \n",
       "99997                109554.0             537548.0           1.0        0.0  \n",
       "\n",
       "[34468 rows x 15 columns]"
      ]
     },
     "execution_count": 12,
     "metadata": {},
     "output_type": "execute_result"
    }
   ],
   "source": [
    "#drop in correct credit scores for TRAIN\n",
    "filtered_data_train = credit_train[credit_train['Credit Score'] <= 850].drop(['Purpose', 'Home Ownership','Loan ID', 'Customer ID'], axis=1)\n",
    "# Print the filtered dataset\n",
    "filtered_data_train"
   ]
  },
  {
   "attachments": {},
   "cell_type": "markdown",
   "metadata": {},
   "source": [
    "USING THE FILTER DATA TRAIN DF"
   ]
  },
  {
   "cell_type": "code",
   "execution_count": 13,
   "metadata": {},
   "outputs": [],
   "source": [
    "# Clean up the \"Years in Current Job\" column\n",
    "filtered_data_train['Years in current job'] = filtered_data_train['Years in current job'].astype(str)\n",
    "filtered_data_train['Years in current job'] = filtered_data_train['Years in current job'].str.replace(r'[^\\d]+', '', regex=True)\n",
    "filtered_data_train['Years in current job'] = filtered_data_train['Years in current job'].str.replace(r' years', '', regex=True)\n",
    "filtered_data_train['Years in current job'] = pd.to_numeric(filtered_data_train['Years in current job'], errors='coerce')\n",
    "filtered_data_train.dropna(subset=['Years in current job'], inplace=True)\n",
    "filtered_data_train['Years in current job'] = filtered_data_train['Years in current job'].astype(float)"
   ]
  },
  {
   "cell_type": "code",
   "execution_count": 14,
   "metadata": {},
   "outputs": [],
   "source": [
    "# Convert \"charges off\" to 1 and \"paid off\" to 0 and convert to integer in TRAIN\n",
    "filtered_data_train[\"Loan Status\"] = filtered_data_train[\"Loan Status\"].map({\"Charged Off\": 1, \"Fully Paid\": 0}).astype(int)"
   ]
  },
  {
   "cell_type": "code",
   "execution_count": 15,
   "metadata": {},
   "outputs": [],
   "source": [
    "#convert \"short term\" to 0 and \"long term\" to 1 an convert to integer \n",
    "filtered_data_train[\"Term\"] = filtered_data_train[\"Term\"].map({\"Long Term\": 1, \"Short Term\": 0}).astype(int)"
   ]
  },
  {
   "cell_type": "code",
   "execution_count": 16,
   "metadata": {},
   "outputs": [
    {
     "data": {
      "text/plain": [
       "Loan Status\n",
       "0    28972\n",
       "1     5496\n",
       "Name: count, dtype: int64"
      ]
     },
     "execution_count": 16,
     "metadata": {},
     "output_type": "execute_result"
    }
   ],
   "source": [
    "#check if coverted\n",
    "filtered_data_train.value_counts(\"Loan Status\")"
   ]
  },
  {
   "cell_type": "code",
   "execution_count": 17,
   "metadata": {},
   "outputs": [
    {
     "data": {
      "text/plain": [
       "Term\n",
       "0    24671\n",
       "1     9797\n",
       "Name: count, dtype: int64"
      ]
     },
     "execution_count": 17,
     "metadata": {},
     "output_type": "execute_result"
    }
   ],
   "source": [
    "#check if coverted for term\n",
    "filtered_data_train.value_counts(\"Term\")"
   ]
  },
  {
   "attachments": {},
   "cell_type": "markdown",
   "metadata": {},
   "source": [
    "CREATE RANDOM FOREST MODEL"
   ]
  },
  {
   "cell_type": "code",
   "execution_count": 18,
   "metadata": {},
   "outputs": [
    {
     "data": {
      "text/html": [
       "<div>\n",
       "<style scoped>\n",
       "    .dataframe tbody tr th:only-of-type {\n",
       "        vertical-align: middle;\n",
       "    }\n",
       "\n",
       "    .dataframe tbody tr th {\n",
       "        vertical-align: top;\n",
       "    }\n",
       "\n",
       "    .dataframe thead th {\n",
       "        text-align: right;\n",
       "    }\n",
       "</style>\n",
       "<table border=\"1\" class=\"dataframe\">\n",
       "  <thead>\n",
       "    <tr style=\"text-align: right;\">\n",
       "      <th></th>\n",
       "      <th>Loan Status</th>\n",
       "      <th>Current Loan Amount</th>\n",
       "      <th>Term</th>\n",
       "      <th>Annual Income</th>\n",
       "      <th>Years in current job</th>\n",
       "      <th>Monthly Debt</th>\n",
       "      <th>Years of Credit History</th>\n",
       "      <th>Months since last delinquent</th>\n",
       "      <th>Number of Open Accounts</th>\n",
       "      <th>Number of Credit Problems</th>\n",
       "      <th>Current Credit Balance</th>\n",
       "      <th>Maximum Open Credit</th>\n",
       "      <th>Bankruptcies</th>\n",
       "      <th>Tax Liens</th>\n",
       "    </tr>\n",
       "  </thead>\n",
       "  <tbody>\n",
       "    <tr>\n",
       "      <th>2</th>\n",
       "      <td>0</td>\n",
       "      <td>99999999.0</td>\n",
       "      <td>0</td>\n",
       "      <td>2231892.0</td>\n",
       "      <td>8.0</td>\n",
       "      <td>29200.53</td>\n",
       "      <td>14.9</td>\n",
       "      <td>29.0</td>\n",
       "      <td>18.0</td>\n",
       "      <td>1.0</td>\n",
       "      <td>297996.0</td>\n",
       "      <td>750090.0</td>\n",
       "      <td>0.0</td>\n",
       "      <td>0.0</td>\n",
       "    </tr>\n",
       "    <tr>\n",
       "      <th>6</th>\n",
       "      <td>0</td>\n",
       "      <td>217646.0</td>\n",
       "      <td>0</td>\n",
       "      <td>1184194.0</td>\n",
       "      <td>1.0</td>\n",
       "      <td>10855.08</td>\n",
       "      <td>19.6</td>\n",
       "      <td>10.0</td>\n",
       "      <td>13.0</td>\n",
       "      <td>1.0</td>\n",
       "      <td>122170.0</td>\n",
       "      <td>272052.0</td>\n",
       "      <td>1.0</td>\n",
       "      <td>0.0</td>\n",
       "    </tr>\n",
       "    <tr>\n",
       "      <th>8</th>\n",
       "      <td>0</td>\n",
       "      <td>548746.0</td>\n",
       "      <td>0</td>\n",
       "      <td>2559110.0</td>\n",
       "      <td>2.0</td>\n",
       "      <td>18660.28</td>\n",
       "      <td>22.6</td>\n",
       "      <td>33.0</td>\n",
       "      <td>4.0</td>\n",
       "      <td>0.0</td>\n",
       "      <td>437171.0</td>\n",
       "      <td>555038.0</td>\n",
       "      <td>0.0</td>\n",
       "      <td>0.0</td>\n",
       "    </tr>\n",
       "    <tr>\n",
       "      <th>10</th>\n",
       "      <td>0</td>\n",
       "      <td>99999999.0</td>\n",
       "      <td>0</td>\n",
       "      <td>714628.0</td>\n",
       "      <td>3.0</td>\n",
       "      <td>11851.06</td>\n",
       "      <td>16.0</td>\n",
       "      <td>76.0</td>\n",
       "      <td>16.0</td>\n",
       "      <td>0.0</td>\n",
       "      <td>203965.0</td>\n",
       "      <td>289784.0</td>\n",
       "      <td>0.0</td>\n",
       "      <td>0.0</td>\n",
       "    </tr>\n",
       "    <tr>\n",
       "      <th>12</th>\n",
       "      <td>0</td>\n",
       "      <td>99999999.0</td>\n",
       "      <td>0</td>\n",
       "      <td>776188.0</td>\n",
       "      <td>1.0</td>\n",
       "      <td>11578.22</td>\n",
       "      <td>8.5</td>\n",
       "      <td>25.0</td>\n",
       "      <td>6.0</td>\n",
       "      <td>0.0</td>\n",
       "      <td>134083.0</td>\n",
       "      <td>220220.0</td>\n",
       "      <td>0.0</td>\n",
       "      <td>0.0</td>\n",
       "    </tr>\n",
       "  </tbody>\n",
       "</table>\n",
       "</div>"
      ],
      "text/plain": [
       "    Loan Status  Current Loan Amount  Term  Annual Income   \n",
       "2             0           99999999.0     0      2231892.0  \\\n",
       "6             0             217646.0     0      1184194.0   \n",
       "8             0             548746.0     0      2559110.0   \n",
       "10            0           99999999.0     0       714628.0   \n",
       "12            0           99999999.0     0       776188.0   \n",
       "\n",
       "    Years in current job  Monthly Debt  Years of Credit History   \n",
       "2                    8.0      29200.53                     14.9  \\\n",
       "6                    1.0      10855.08                     19.6   \n",
       "8                    2.0      18660.28                     22.6   \n",
       "10                   3.0      11851.06                     16.0   \n",
       "12                   1.0      11578.22                      8.5   \n",
       "\n",
       "    Months since last delinquent  Number of Open Accounts   \n",
       "2                           29.0                     18.0  \\\n",
       "6                           10.0                     13.0   \n",
       "8                           33.0                      4.0   \n",
       "10                          76.0                     16.0   \n",
       "12                          25.0                      6.0   \n",
       "\n",
       "    Number of Credit Problems  Current Credit Balance  Maximum Open Credit   \n",
       "2                         1.0                297996.0             750090.0  \\\n",
       "6                         1.0                122170.0             272052.0   \n",
       "8                         0.0                437171.0             555038.0   \n",
       "10                        0.0                203965.0             289784.0   \n",
       "12                        0.0                134083.0             220220.0   \n",
       "\n",
       "    Bankruptcies  Tax Liens  \n",
       "2            0.0        0.0  \n",
       "6            1.0        0.0  \n",
       "8            0.0        0.0  \n",
       "10           0.0        0.0  \n",
       "12           0.0        0.0  "
      ]
     },
     "execution_count": 18,
     "metadata": {},
     "output_type": "execute_result"
    }
   ],
   "source": [
    "# Define features set\n",
    "X = filtered_data_train.copy()\n",
    "X.drop(\"Credit Score\", axis=1, inplace=True)\n",
    "X.head()"
   ]
  },
  {
   "cell_type": "code",
   "execution_count": 19,
   "metadata": {},
   "outputs": [
    {
     "data": {
      "text/plain": [
       "array([741., 730., 678., 728., 740.])"
      ]
     },
     "execution_count": 19,
     "metadata": {},
     "output_type": "execute_result"
    }
   ],
   "source": [
    "# Define target vector\n",
    "y = filtered_data_train[\"Credit Score\"].ravel()\n",
    "y[:5]"
   ]
  },
  {
   "cell_type": "code",
   "execution_count": 20,
   "metadata": {},
   "outputs": [],
   "source": [
    "# Splitting into Train and Test sets\n",
    "X_train, X_test, y_train, y_test = train_test_split(X, y, random_state=78)"
   ]
  },
  {
   "cell_type": "code",
   "execution_count": 21,
   "metadata": {},
   "outputs": [],
   "source": [
    "# Creating StandardScaler instance\n",
    "scaler = StandardScaler()"
   ]
  },
  {
   "cell_type": "code",
   "execution_count": 22,
   "metadata": {},
   "outputs": [],
   "source": [
    "# Fitting Standard Scaller\n",
    "X_scaler = scaler.fit(X_train)"
   ]
  },
  {
   "cell_type": "code",
   "execution_count": 23,
   "metadata": {},
   "outputs": [],
   "source": [
    "# Scaling data\n",
    "X_train_scaled = X_scaler.transform(X_train)\n",
    "X_test_scaled = X_scaler.transform(X_test)"
   ]
  },
  {
   "attachments": {},
   "cell_type": "markdown",
   "metadata": {},
   "source": [
    "fitting the random forest model"
   ]
  },
  {
   "cell_type": "code",
   "execution_count": 24,
   "metadata": {},
   "outputs": [],
   "source": [
    "# Create a random forest classifier\n",
    "rf_model = RandomForestRegressor(n_estimators = 300, max_features = 'sqrt', max_depth = 5, random_state = 18)"
   ]
  },
  {
   "cell_type": "code",
   "execution_count": 25,
   "metadata": {},
   "outputs": [],
   "source": [
    "# Fitting the model\n",
    "rf_model = rf_model.fit(X_train_scaled, y_train)"
   ]
  },
  {
   "attachments": {},
   "cell_type": "markdown",
   "metadata": {},
   "source": [
    "making predictions using the random forest model"
   ]
  },
  {
   "cell_type": "code",
   "execution_count": 26,
   "metadata": {},
   "outputs": [],
   "source": [
    "# Making predictions using the testing data\n",
    "predictions = rf_model.predict(X_test_scaled)"
   ]
  },
  {
   "attachments": {},
   "cell_type": "markdown",
   "metadata": {},
   "source": [
    "R2 score\n"
   ]
  },
  {
   "cell_type": "code",
   "execution_count": 27,
   "metadata": {},
   "outputs": [
    {
     "data": {
      "text/plain": [
       "0.2658116366912717"
      ]
     },
     "execution_count": 27,
     "metadata": {},
     "output_type": "execute_result"
    }
   ],
   "source": [
    "rf_model.score(X_test_scaled,y_test)"
   ]
  },
  {
   "attachments": {},
   "cell_type": "markdown",
   "metadata": {},
   "source": [
    "Feature Importance"
   ]
  },
  {
   "cell_type": "code",
   "execution_count": 28,
   "metadata": {},
   "outputs": [
    {
     "data": {
      "text/plain": [
       "[(0.6976201713759477, 'Term'),\n",
       " (0.11332549917673167, 'Current Loan Amount'),\n",
       " (0.05701004720834927, 'Maximum Open Credit'),\n",
       " (0.027657907883268593, 'Monthly Debt'),\n",
       " (0.024126555912081963, 'Loan Status'),\n",
       " (0.018753434201665746, 'Years of Credit History'),\n",
       " (0.018391064430298976, 'Current Credit Balance'),\n",
       " (0.013518817652461212, 'Annual Income'),\n",
       " (0.010910370254427223, 'Number of Open Accounts'),\n",
       " (0.010151636369485772, 'Months since last delinquent'),\n",
       " (0.003978408988601662, 'Number of Credit Problems'),\n",
       " (0.002593647348389447, 'Bankruptcies'),\n",
       " (0.0014250689367483354, 'Years in current job'),\n",
       " (0.0005373702615424883, 'Tax Liens')]"
      ]
     },
     "execution_count": 28,
     "metadata": {},
     "output_type": "execute_result"
    }
   ],
   "source": [
    "# Random Forests in sklearn will automatically calculate feature importance\n",
    "importances = rf_model.feature_importances_\n",
    "# We can sort the features by their importance\n",
    "sorted(zip(rf_model.feature_importances_, X.columns), reverse=True)"
   ]
  },
  {
   "cell_type": "code",
   "execution_count": 29,
   "metadata": {},
   "outputs": [
    {
     "data": {
      "text/plain": [
       "<Axes: title={'center': 'Features Importances'}, ylabel='1'>"
      ]
     },
     "execution_count": 29,
     "metadata": {},
     "output_type": "execute_result"
    },
    {
     "data": {
      "image/png": "[encoded data removed]",
      "text/plain": [
       "<Figure size 640x480 with 1 Axes>"
      ]
     },
     "metadata": {},
     "output_type": "display_data"
    }
   ],
   "source": [
    "# Visualize the features by importance\n",
    "importances_df = pd.DataFrame(sorted(zip(rf_model.feature_importances_, X.columns), reverse=True))\n",
    "importances_df.set_index(importances_df[1], inplace=True)\n",
    "importances_df.drop(columns=1, inplace=True)\n",
    "importances_df.rename(columns={0: 'Feature Importances'}, inplace=True)\n",
    "importances_sorted = importances_df.sort_values(by='Feature Importances')\n",
    "importances_sorted.plot(kind='barh', color='lightgreen', title= 'Features Importances', legend=False)"
   ]
  },
  {
   "cell_type": "code",
   "execution_count": 30,
   "metadata": {},
   "outputs": [
    {
     "data": {
      "image/png": "[encoded data removed]",
      "text/plain": [
       "<Figure size 1000x800 with 2 Axes>"
      ]
     },
     "metadata": {},
     "output_type": "display_data"
    }
   ],
   "source": [
    "# Exploring correlation between features\n",
    "plt.figure(figsize=(10,8))\n",
    "cor = filtered_data_train.corr()\n",
    "sns.heatmap(cor, annot=False, cmap=plt.cm.Reds)\n",
    "plt.show()"
   ]
  },
  {
   "cell_type": "code",
   "execution_count": 31,
   "metadata": {},
   "outputs": [
    {
     "data": {
      "image/png": "[encoded data removed]",
      "text/plain": [
       "<Figure size 1200x500 with 1 Axes>"
      ]
     },
     "metadata": {},
     "output_type": "display_data"
    }
   ],
   "source": [
    "# Credit Scores per Income\n",
    "corr_income_credit = filtered_data_train[[\"Annual Income\", \"Credit Score\"]].corr()\n",
    "\n",
    "plt.figure(figsize=(12, 5))\n",
    "sns.barplot(x=corr_income_credit.index, y=corr_income_credit[\"Annual Income\"])\n",
    "plt.title(\"Correlation between Income and Credit Score\")\n",
    "plt.xlabel(\"Features\")\n",
    "plt.ylabel(\"Correlation\")\n",
    "plt.xticks(rotation=90)\n",
    "plt.grid(True)\n",
    "plt.show()"
   ]
  },
  {
   "attachments": {},
   "cell_type": "markdown",
   "metadata": {},
   "source": [
    "random forest regressor \n"
   ]
  },
  {
   "cell_type": "code",
   "execution_count": 32,
   "metadata": {},
   "outputs": [],
   "source": [
    "#create regressor model and train\n",
    "rf = RandomForestRegressor(n_estimators = 300, max_features = 'sqrt', max_depth = 5, random_state = 18).fit(X_train_scaled, y_train)"
   ]
  },
  {
   "cell_type": "code",
   "execution_count": 33,
   "metadata": {},
   "outputs": [
    {
     "name": "stdout",
     "output_type": "stream",
     "text": [
      "R2: 26.58%\n"
     ]
    }
   ],
   "source": [
    "#make predicts on test data \n",
    "prediction = rf.predict(X_test_scaled)\n",
    "\n",
    "#R2 score\n",
    "score5 = rf.score(X_test_scaled, y_test)\n",
    "percentage = score5 * 100\n",
    "print('R2: %.2f%%' % percentage)"
   ]
  },
  {
   "cell_type": "code",
   "execution_count": 34,
   "metadata": {},
   "outputs": [
    {
     "data": {
      "text/plain": [
       "[(0.6976201713759477, 'Term'),\n",
       " (0.11332549917673167, 'Current Loan Amount'),\n",
       " (0.05701004720834927, 'Maximum Open Credit'),\n",
       " (0.027657907883268593, 'Monthly Debt'),\n",
       " (0.024126555912081963, 'Loan Status'),\n",
       " (0.018753434201665746, 'Years of Credit History'),\n",
       " (0.018391064430298976, 'Current Credit Balance'),\n",
       " (0.013518817652461212, 'Annual Income'),\n",
       " (0.010910370254427223, 'Number of Open Accounts'),\n",
       " (0.010151636369485772, 'Months since last delinquent'),\n",
       " (0.003978408988601662, 'Number of Credit Problems'),\n",
       " (0.002593647348389447, 'Bankruptcies'),\n",
       " (0.0014250689367483354, 'Years in current job'),\n",
       " (0.0005373702615424883, 'Tax Liens')]"
      ]
     },
     "execution_count": 34,
     "metadata": {},
     "output_type": "execute_result"
    }
   ],
   "source": [
    "# Random Forests in sklearn will automatically calculate feature importance\n",
    "importances = rf.feature_importances_\n",
    "# We can sort the features by their importance\n",
    "sorted(zip(rf.feature_importances_, X.columns), reverse=True)"
   ]
  },
  {
   "cell_type": "code",
   "execution_count": 35,
   "metadata": {},
   "outputs": [
    {
     "data": {
      "text/plain": [
       "<Axes: title={'center': 'Features Importances'}, ylabel='1'>"
      ]
     },
     "execution_count": 35,
     "metadata": {},
     "output_type": "execute_result"
    },
    {
     "data": {
      "image/png": "[encoded data removed]",
      "text/plain": [
       "<Figure size 640x480 with 1 Axes>"
      ]
     },
     "metadata": {},
     "output_type": "display_data"
    }
   ],
   "source": [
    "# Visualize the features by importance\n",
    "importances_df = pd.DataFrame(sorted(zip(rf.feature_importances_, X.columns), reverse=True))\n",
    "importances_df.set_index(importances_df[1], inplace=True)\n",
    "importances_df.drop(columns=1, inplace=True)\n",
    "importances_df.rename(columns={0: 'Feature Importances'}, inplace=True)\n",
    "importances_sorted = importances_df.sort_values(by='Feature Importances')\n",
    "importances_sorted.plot(kind='barh', color='lightgreen', title= 'Features Importances', legend=False)"
   ]
  },
  {
   "attachments": {},
   "cell_type": "markdown",
   "metadata": {},
   "source": [
    "lack of data\n",
    "bad data\n",
    "improper tweaking"
   ]
  },
  {
   "attachments": {},
   "cell_type": "markdown",
   "metadata": {},
   "source": [
    "_________________________________________________________"
   ]
  },
  {
   "attachments": {},
   "cell_type": "markdown",
   "metadata": {},
   "source": [
    "Imbalance Dataset"
   ]
  },
  {
   "attachments": {},
   "cell_type": "markdown",
   "metadata": {},
   "source": [
    "SMOTE  (Synthetic Minority OverSampling Technique)"
   ]
  },
  {
   "cell_type": "code",
   "execution_count": 36,
   "metadata": {},
   "outputs": [
    {
     "name": "stdout",
     "output_type": "stream",
     "text": [
      "R-squared (R2): -0.816\n"
     ]
    }
   ],
   "source": [
    "X = filtered_data_train.copy()\n",
    "X.drop(\"Credit Score\", axis=1, inplace=True)\n",
    "y = filtered_data_train[\"Credit Score\"]\n",
    "\n",
    "X_train, X_test, y_train, y_test = train_test_split(X, y, test_size=0.1, random_state=18)\n",
    "\n",
    "ros = RandomOverSampler()\n",
    "over_X_train, over_y_train = ros.fit_resample(X_train, y_train)\n",
    "\n",
    "rf_regressor = RandomForestRegressor(n_estimators=300, max_features='sqrt', max_depth=5, random_state=18)\n",
    "rf_regressor.fit(over_X_train, over_y_train)\n",
    "\n",
    "y_pred = rf_regressor.predict(X_test)\n",
    "\n",
    "\n",
    "r2 = r2_score(y_test, y_pred)\n",
    "\n",
    "print('R-squared (R2): %.3f' % r2)\n"
   ]
  }
 ],
 "metadata": {
  "kernelspec": {
   "display_name": "PythonData310",
   "language": "python",
   "name": "python3"
  },
  "language_info": {
   "codemirror_mode": {
    "name": "ipython",
    "version": 3
   },
   "file_extension": ".py",
   "mimetype": "text/x-python",
   "name": "python",
   "nbconvert_exporter": "python",
   "pygments_lexer": "ipython3",
   "version": "3.10.11"
  },
  "orig_nbformat": 4
 },
 "nbformat": 4,
 "nbformat_minor": 2
}
